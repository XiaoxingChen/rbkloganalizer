{
 "cells": [
  {
   "cell_type": "markdown",
   "metadata": {},
   "source": [
    "# Log文件解析脚本\n",
    " \n",
    "目前，已经可以从Log中解析以下表格中的内容：  \n",
    "\n",
    "|类型|正则名称|数据名称|  \n",
    "|:-|:-|:-|\n",
    "|MCLoc  |mcloc_re|t, x, y, theta, confidence|  \n",
    "|Yaw|yaw_re|yaw_t, yaw_data, yaw_time, ax, ay, az, gx, gy, gz, offx, offy, offz|  \n",
    "|Odometer|odometer_re|odo_t, odo_time, odo_x, odo_y, odo_theta|  \n",
    "|下发速度|vel_re|vx, vy, omega|  \n",
    "|TEB下发速度|send_vel_re|send_vel_t, send_vx, send_vy, send_vw, send_steer_angle|  \n",
    "|TEB获取速度|get_vel_re|get_vel_t, get_vel_x, get_vel_vw, get_vel_steer_angle|  "
   ]
  },
  {
   "cell_type": "markdown",
   "metadata": {},
   "source": [
    "##  如何添加新的解析内容\n",
    "1. [正则模块中添加新的正则表达式和对应的变量](#No1)  \n",
    "2. [解析函数中处理解析出来的数据，赋予对应变量](#No2)  \n",
    "3. [运行解析函数，并且画图](#No3)"
   ]
  },
  {
   "cell_type": "code",
   "execution_count": 1,
   "metadata": {
    "collapsed": true
   },
   "outputs": [],
   "source": [
    "%matplotlib tk\n",
    "import matplotlib.pyplot as plt\n",
    "import os\n",
    "import re\n",
    "import numpy as np\n",
    "import math"
   ]
  },
  {
   "cell_type": "markdown",
   "metadata": {},
   "source": [
    "## <span id=\"No1\">正则 </span>"
   ]
  },
  {
   "cell_type": "markdown",
   "metadata": {},
   "source": [
    "* 定位"
   ]
  },
  {
   "cell_type": "code",
   "execution_count": 2,
   "metadata": {
    "collapsed": true
   },
   "outputs": [],
   "source": [
    "mcloc_re = re.compile(\"\\[.*? ([0-9][0-9]):([0-9][0-9]):(\\d+\\.\\d+)\\].*x:(.*?):y:(.*?):theta:(.*?):confidence:(.*?)$\")\n",
    "t = []\n",
    "x = []\n",
    "y = []\n",
    "theta =[]\n",
    "confidence = []"
   ]
  },
  {
   "cell_type": "markdown",
   "metadata": {},
   "source": [
    " * 陀螺仪"
   ]
  },
  {
   "cell_type": "code",
   "execution_count": 3,
   "metadata": {
    "collapsed": true
   },
   "outputs": [],
   "source": [
    "yaw_re = re.compile(\"\\[.*? ([0-9][0-9]):([0-9][0-9]):(\\d*\\.?\\d*)\\].*yaw: (.*?),? ?timestamp: (\\d+)\")\n",
    "yaw_t = []\n",
    "yaw_data = []\n",
    "yaw_time = []\n",
    "acc_re = re.compile(\"acc = \\[(.*?), (.*?), (.*?)\\]w = \\[(.*?), (.*?), (.*?)\\];off = \\[(.*?), (.*?), (.*?)\\]\")\n",
    "ax = []\n",
    "ay = []\n",
    "az = []\n",
    "gx = []\n",
    "gy = []\n",
    "gz = []\n",
    "offx = []\n",
    "offy = []\n",
    "offz = []"
   ]
  },
  {
   "cell_type": "markdown",
   "metadata": {},
   "source": [
    "* 里程"
   ]
  },
  {
   "cell_type": "code",
   "execution_count": 4,
   "metadata": {
    "collapsed": true
   },
   "outputs": [],
   "source": [
    "odometer_re = re.compile(\"\\[.*? ([0-9][0-9]):([0-9][0-9]):(\\d*\\.?\\d*)\\].*timestamp: (\\d+), x: (.*?), y: (.*?), angle: (.*?),\")\n",
    "odo_t = []\n",
    "odo_time = []\n",
    "odo_x = []\n",
    "odo_y = []\n",
    "odo_theta = []"
   ]
  },
  {
   "cell_type": "markdown",
   "metadata": {},
   "source": [
    "* 下发速度"
   ]
  },
  {
   "cell_type": "code",
   "execution_count": 5,
   "metadata": {
    "collapsed": true
   },
   "outputs": [],
   "source": [
    "vel_re = re.compile('\\[.*? ([0-9][0-9]):([0-9][0-9]):(\\d*\\.?\\d*)\\].*{ \"vx\" : (.*?), \"vy\" : (.*?), \"w\" : (.*?) }')\n",
    "vel_t = []\n",
    "vx =[]\n",
    "vy = []\n",
    "omega = []"
   ]
  },
  {
   "cell_type": "markdown",
   "metadata": {},
   "source": [
    "* TEB中下发速度"
   ]
  },
  {
   "cell_type": "code",
   "execution_count": 6,
   "metadata": {
    "collapsed": true
   },
   "outputs": [],
   "source": [
    "send_vel_re = re.compile('\\[.*? ([0-9][0-9]):([0-9][0-9]):(\\d*\\.?\\d*)\\].* vx = (.*?); vy = (.*?); vw = (.*?); steer_angle = (.*?); max_vel = .*')\n",
    "send_vel_t = []\n",
    "send_vx = []\n",
    "send_vy = []\n",
    "send_vw = []\n",
    "send_steer_angle = []"
   ]
  },
  {
   "cell_type": "markdown",
   "metadata": {},
   "source": [
    "* TEB获取速度"
   ]
  },
  {
   "cell_type": "code",
   "execution_count": 7,
   "metadata": {
    "collapsed": true
   },
   "outputs": [],
   "source": [
    "get_vel_re = re.compile('\\[.*? ([0-9][0-9]):([0-9][0-9]):(\\d*\\.?\\d*)\\].* vx = (.*?); omega = (.*?); steer_angle = (.*?)\\n')\n",
    "get_vel_t = []\n",
    "get_vx = []\n",
    "get_vw = []\n",
    "get_steer_angle = []"
   ]
  },
  {
   "cell_type": "markdown",
   "metadata": {},
   "source": [
    "## <span id=\"No2\">解析函数 </span>"
   ]
  },
  {
   "cell_type": "code",
   "execution_count": 8,
   "metadata": {
    "collapsed": true
   },
   "outputs": [],
   "source": [
    "def read_log(filename): \n",
    "    for line in open(filename): \n",
    "        m = mcloc_re.match(line)\n",
    "        yaw = yaw_re.match(line)\n",
    "        odo = odometer_re.match(line)\n",
    "        acc = acc_re.match(line)\n",
    "        vel = vel_re.match(line)\n",
    "        send_vel = send_vel_re.match(line)\n",
    "        get_vel = get_vel_re.match(line)\n",
    "        if m:\n",
    "            t.append(float(m.group(1))*60.0*60.0+float(m.group(2))*60.0+float(m.group(3)))\n",
    "            x.append(float(m.group(4)))\n",
    "            y.append(float(m.group(5)))\n",
    "            theta.append(float(m.group(6)))\n",
    "            confidence.append(float(m.group(7)))\n",
    "        if yaw:\n",
    "            yaw_t.append(float(yaw.group(1))*60.0*60.0+float(yaw.group(2))*60.0+float(yaw.group(3)))\n",
    "            yaw_data.append((float(yaw.group(4))/math.pi *  180.0))\n",
    "            yaw_time.append(float(yaw.group(5)))\n",
    "        if acc:\n",
    "            ax.append(float(acc.group(1)))\n",
    "            ay.append(float(acc.group(2)))\n",
    "            az.append(float(acc.group(3)))\n",
    "            gx.append(float(acc.group(4))/math.pi*180.0*16.4)\n",
    "            gy.append(float(acc.group(5))/math.pi*180.0*16.4)\n",
    "            gz.append(float(acc.group(6))/math.pi*180.0*16.4)\n",
    "            offx.append(float(acc.group(7)))\n",
    "            offy.append(float(acc.group(8)))\n",
    "            offz.append(float(acc.group(9)))\n",
    "        if odo:\n",
    "            odo_t.append(float(odo.group(1))*60.0*60.0+float(odo.group(2))*60.0+float(odo.group(3)))\n",
    "            odo_time.append(float(odo.group(4)))\n",
    "            odo_x.append(float(odo.group(5)))\n",
    "            odo_y.append(float(odo.group(6)))\n",
    "            odo_theta.append((float(odo.group(7))/math.pi * 180.0))\n",
    "        if vel:\n",
    "            vel_t.append(float(vel.group(1))*60.0*60.0+float(vel.group(2))*60.0+float(vel.group(3)))\n",
    "            vx.append(float(vel.group(4)))\n",
    "            vy.append(float(vel.group(5)))\n",
    "            omega.append(float(vel.group(6)))\n",
    "        if send_vel:\n",
    "            send_vel_t.append(float(send_vel.group(1))*60.0*60.0+float(send_vel.group(2))*60.0+float(send_vel.group(3)))\n",
    "            send_vx.append(float(send_vel.group(4)))\n",
    "            send_vy.append(float(send_vel.group(5)))\n",
    "            send_vw.append(float(send_vel.group(6)))\n",
    "            send_steer_angle.append(float(send_vel.group(7)))\n",
    "        if get_vel:\n",
    "            get_vel_t.append(float(get_vel.group(1))*60.0*60.0+float(get_vel.group(2))*60.0+float(get_vel.group(3)))\n",
    "            get_vx.append(float(get_vel.group(4)))\n",
    "            get_vw.append(float(get_vel.group(5)))\n",
    "            get_steer_angle.append(float(get_vel.group(6)))"
   ]
  },
  {
   "cell_type": "markdown",
   "metadata": {},
   "source": [
    "## <span id=\"No3\">解析文件，并画图 </span>"
   ]
  },
  {
   "cell_type": "code",
   "execution_count": 13,
   "metadata": {},
   "outputs": [],
   "source": [
    "filename= 'robokit_2018-02-07_23-14-33.542.log'\n",
    "t, x, y, theta, confidence = [], [], [], [], []\n",
    "yaw_t, yaw_data, yaw_time = [], [], []\n",
    "ax, ay, az = [], [], []\n",
    "gx, gy, gz = [], [], []\n",
    "offx, offy, offz = [], [], []\n",
    "odo_t, odo_time, odo_x, odo_y, odo_theta = [], [], [], [], []\n",
    "vel_t, vx, vy, omega = [], [], [], []\n",
    "send_vel_t, send_vx, send_vy, send_vw, send_steer_angle = [], [], [], [], []\n",
    "get_vel_t, get_vx, get_vw, get_steer_angle = [], [], [], []\n",
    "read_log(filename)"
   ]
  },
  {
   "cell_type": "code",
   "execution_count": 14,
   "metadata": {},
   "outputs": [
    {
     "data": {
      "text/plain": [
       "<matplotlib.legend.Legend at 0x18d977f7320>"
      ]
     },
     "execution_count": 14,
     "metadata": {},
     "output_type": "execute_result"
    }
   ],
   "source": [
    "plt.figure(1)\n",
    "plt.plot(t,confidence,'g--',label='confidence ')\n",
    "plt.legend()"
   ]
  },
  {
   "cell_type": "code",
   "execution_count": 19,
   "metadata": {},
   "outputs": [
    {
     "data": {
      "text/plain": [
       "<matplotlib.legend.Legend at 0x18d953e3e10>"
      ]
     },
     "execution_count": 19,
     "metadata": {},
     "output_type": "execute_result"
    }
   ],
   "source": [
    "fig = plt.figure(6)\n",
    "ax1 = fig.add_subplot(111)\n",
    "ax1.plot(t,x,'b-',label='x')\n",
    "ax1.plot(t,y,'r-',label='y')\n",
    "ax1.legend(loc = 'upper right')\n",
    "ax2 = ax1.twinx()\n",
    "ax2.plot(vel_t,vx,'g.',label='vx')\n",
    "ax2.plot(vel_t,omega,'y.',label='omega')\n",
    "ax2.legend(loc = 'upper left')"
   ]
  }
 ],
 "metadata": {
  "kernelspec": {
   "display_name": "Python 3",
   "language": "python",
   "name": "python3"
  },
  "language_info": {
   "codemirror_mode": {
    "name": "ipython",
    "version": 3
   },
   "file_extension": ".py",
   "mimetype": "text/x-python",
   "name": "python",
   "nbconvert_exporter": "python",
   "pygments_lexer": "ipython3",
   "version": "3.6.3"
  }
 },
 "nbformat": 4,
 "nbformat_minor": 1
}
