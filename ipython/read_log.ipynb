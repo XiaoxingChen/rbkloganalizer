{
 "cells": [
  {
   "cell_type": "markdown",
   "metadata": {},
   "source": [
    "# Log文件解析脚本\n",
    " \n",
    "目前，已经可以从Log中解析以下表格中的内容：  \n",
    "\n",
    "|类型|正则名称|数据名称|  \n",
    "|:-|:-|:-|\n",
    "|MCLoc  |mcloc_re|t, x, y, theta, confidence|  \n",
    "|Yaw|yaw_re|yaw_t, yaw_data, yaw_time, ax, ay, az, gx, gy, gz, offx, offy, offz|  \n",
    "|Odometer|odometer_re|odo_t, odo_time, odo_x, odo_y, odo_theta|  \n",
    "|下发速度|vel_re|vx, vy, omega|  \n",
    "|TEB下发速度|send_vel_re|send_vel_t, send_vx, send_vy, send_vw, send_steer_angle|  \n",
    "|TEB获取速度|get_vel_re|get_vel_t, get_vel_x, get_vel_vw, get_vel_steer_angle|  "
   ]
  },
  {
   "cell_type": "markdown",
   "metadata": {},
   "source": [
    "##  如何添加新的解析内容\n",
    "1. [正则模块中添加新的正则表达式和对应的变量](#No1)  \n",
    "2. [解析函数中处理解析出来的数据，赋予对应变量](#No2)  \n",
    "3. [运行解析函数，并且画图](#No3)"
   ]
  },
  {
   "cell_type": "code",
   "execution_count": 1,
   "metadata": {},
   "outputs": [],
   "source": [
    "%matplotlib qt5\n",
    "import matplotlib.pyplot as plt\n",
    "import os\n",
    "import re\n",
    "import numpy as np\n",
    "import math\n",
    "from datetime import datetime"
   ]
  },
  {
   "cell_type": "markdown",
   "metadata": {},
   "source": [
    "## <span id=\"No1\">正则 </span>"
   ]
  },
  {
   "cell_type": "markdown",
   "metadata": {},
   "source": [
    "* 定位"
   ]
  },
  {
   "cell_type": "code",
   "execution_count": 2,
   "metadata": {
    "collapsed": true
   },
   "outputs": [],
   "source": [
    "mcloc_re = re.compile(\"\\[(.*?)\\]\\[MCLoc\\].*x:(.*?):y:(.*?):theta:(.*?):confidence:(.*?)$\")\n",
    "t = []\n",
    "x = []\n",
    "y = []\n",
    "theta =[]\n",
    "confidence = []"
   ]
  },
  {
   "cell_type": "markdown",
   "metadata": {},
   "source": [
    " * 陀螺仪"
   ]
  },
  {
   "cell_type": "code",
   "execution_count": 3,
   "metadata": {
    "collapsed": true
   },
   "outputs": [],
   "source": [
    "yaw_re = re.compile(\"\\[(.*?)\\].*yaw: (.*?),? ?timestamp: (\\d+)\")\n",
    "yaw_t = []\n",
    "yaw_data = []\n",
    "yaw_time = []\n",
    "acc_re = re.compile(\"acc = \\[(.*?), (.*?), (.*?)\\]w = \\[(.*?), (.*?), (.*?)\\];off = \\[(.*?), (.*?), (.*?)\\]\")\n",
    "ax = []\n",
    "ay = []\n",
    "az = []\n",
    "gx = []\n",
    "gy = []\n",
    "gz = []\n",
    "offx = []\n",
    "offy = []\n",
    "offz = []"
   ]
  },
  {
   "cell_type": "markdown",
   "metadata": {},
   "source": [
    "* 里程"
   ]
  },
  {
   "cell_type": "code",
   "execution_count": 4,
   "metadata": {
    "collapsed": true
   },
   "outputs": [],
   "source": [
    "odometer_re = re.compile(\"\\[(.*?)\\].*timestamp: (\\d+), x: (.*?), y: (.*?), angle: (.*?),\")\n",
    "odo_t = []\n",
    "odo_time = []\n",
    "odo_x = []\n",
    "odo_y = []\n",
    "odo_theta = []"
   ]
  },
  {
   "cell_type": "markdown",
   "metadata": {},
   "source": [
    "* 下发速度"
   ]
  },
  {
   "cell_type": "code",
   "execution_count": 5,
   "metadata": {
    "collapsed": true
   },
   "outputs": [],
   "source": [
    "vel_re = re.compile('\\[(.*?)\\].*{ \"vx\" : (.*?), \"vy\" : (.*?), \"w\" : (.*?) }')\n",
    "vel_t = []\n",
    "vx =[]\n",
    "vy = []\n",
    "omega = []"
   ]
  },
  {
   "cell_type": "markdown",
   "metadata": {},
   "source": [
    "* TEB中下发速度"
   ]
  },
  {
   "cell_type": "code",
   "execution_count": 6,
   "metadata": {
    "collapsed": true
   },
   "outputs": [],
   "source": [
    "send_vel_re = re.compile('\\[(.*?)\\].* vx = (.*?); vy = (.*?); vw = (.*?); steer_angle = (.*?); max_vel = .*')\n",
    "send_vel_t = []\n",
    "send_vx = []\n",
    "send_vy = []\n",
    "send_vw = []\n",
    "send_steer_angle = []"
   ]
  },
  {
   "cell_type": "markdown",
   "metadata": {},
   "source": [
    "* TEB获取速度"
   ]
  },
  {
   "cell_type": "code",
   "execution_count": 21,
   "metadata": {
    "collapsed": true
   },
   "outputs": [],
   "source": [
    "get_vel_re = re.compile('\\[(.*?)\\].* vx = (.*?); omega = (.*?); steer_angle = (.*?)\\n')\n",
    "get_vel_t = []\n",
    "get_vx = []\n",
    "get_vw = []\n",
    "get_steer_angle = []"
   ]
  },
  {
   "cell_type": "markdown",
   "metadata": {},
   "source": [
    "## <span id=\"No2\">解析函数 </span>"
   ]
  },
  {
   "cell_type": "code",
   "execution_count": 141,
   "metadata": {},
   "outputs": [],
   "source": [
    "def rbktimetodate(rbktime):\n",
    "    return datetime.strptime(rbktime, '%Y-%m-%d %H:%M:%S.%f')\n",
    "def findrange(ts, t1, t2):\n",
    "    small_ind = -1\n",
    "    large_ind = len(ts)-1\n",
    "    for i, data in enumerate(ts):\n",
    "        large_ind = i\n",
    "        if(t1 < data and small_ind < 0):\n",
    "            small_ind = i\n",
    "        if(t2 < data):\n",
    "            break;\n",
    "    return small_ind, large_ind\n",
    "def anglejoint(anglelist, period = 360.0):\n",
    "    base_offset = anglelist[0]\n",
    "    anglelist[0] = 0\n",
    "    noise = 0.01 * 360\n",
    "    print(base_offset)\n",
    "    for i in range(1, len(anglelist)):\n",
    "        temp = anglelist[i] - base_offset\n",
    "        if(temp - anglelist[i - 1] > (period-noise)):\n",
    "            anglelist[i] =temp - period\n",
    "        elif (temp - anglelist[i - 1] < (-period+noise)):\n",
    "            anglelist[i] =temp + period\n",
    "        else:\n",
    "            anglelist[i] = temp\n",
    "        if(anglelist[i] > period/2.0):\n",
    "            anglelist[i] -= period\n",
    "        elif(anglelist[i] < -period/2.0):\n",
    "            anglelist[i] += period\n",
    "def read_log(filename): \n",
    "    line_num = 0\n",
    "    for line in open(filename): \n",
    "        line_num += 1\n",
    "        #print(line_num)\n",
    "        m = mcloc_re.match(line)\n",
    "        yaw = yaw_re.match(line)\n",
    "        odo = odometer_re.match(line)\n",
    "        acc = acc_re.match(line)\n",
    "        vel = vel_re.match(line)\n",
    "        send_vel = send_vel_re.match(line)\n",
    "        get_vel = get_vel_re.match(line)\n",
    "        if m:\n",
    "            t.append(rbktimetodate(m.group(1)))\n",
    "            x.append(float(m.group(2)))\n",
    "            y.append(float(m.group(3)))\n",
    "            theta.append(float(m.group(4)))\n",
    "            confidence.append(float(m.group(5)))\n",
    "        if yaw:\n",
    "            yaw_t.append(rbktimetodate(yaw.group(1)))\n",
    "            yaw_data.append((float(yaw.group(2))/math.pi *  180.0))\n",
    "            yaw_time.append(float(yaw.group(3)))\n",
    "        if acc:\n",
    "            ax.append(float(acc.group(1)))\n",
    "            ay.append(float(acc.group(2)))\n",
    "            az.append(float(acc.group(3)))\n",
    "            gx.append(float(acc.group(4))/math.pi*180.0*16.4)\n",
    "            gy.append(float(acc.group(5))/math.pi*180.0*16.4)\n",
    "            gz.append(float(acc.group(6))/math.pi*180.0*16.4)\n",
    "            offx.append(float(acc.group(7)))\n",
    "            offy.append(float(acc.group(8)))\n",
    "            offz.append(float(acc.group(9)))\n",
    "        if odo:\n",
    "            odo_t.append(rbktimetodate(odo.group(1)))\n",
    "            odo_time.append(float(odo.group(2)))\n",
    "            odo_x.append(float(odo.group(3)))\n",
    "            odo_y.append(float(odo.group(4)))\n",
    "            odo_theta.append((float(odo.group(5))/math.pi * 180.0))\n",
    "        if vel:\n",
    "            vel_t.append(rbktimetodate(vel.group(1)))\n",
    "            vx.append(float(vel.group(2)))\n",
    "            vy.append(float(vel.group(3)))\n",
    "            omega.append(float(vel.group(4)))\n",
    "        if send_vel:\n",
    "            send_vel_t.append(rbktimetodate(send_vel.group(1)))\n",
    "            send_vx.append(float(send_vel.group(2)))\n",
    "            send_vy.append(float(send_vel.group(3)))\n",
    "            send_vw.append(float(send_vel.group(4)))\n",
    "            send_steer_angle.append(float(send_vel.group(5)))\n",
    "        if get_vel:\n",
    "            get_vel_t.append(rbktimetodate(get_vel.group(1)))\n",
    "            get_vx.append(float(get_vel.group(2)))\n",
    "            get_vw.append(float(get_vel.group(3)))\n",
    "            get_steer_angle.append(float(get_vel.group(4)))"
   ]
  },
  {
   "cell_type": "markdown",
   "metadata": {},
   "source": [
    "## <span id=\"No3\">解析文件，并画图 </span>"
   ]
  },
  {
   "cell_type": "code",
   "execution_count": 148,
   "metadata": {},
   "outputs": [
    {
     "name": "stdout",
     "output_type": "stream",
     "text": [
      "-30.528\n",
      "59.89987269195192\n",
      "93.66198372783082\n"
     ]
    }
   ],
   "source": [
    "filename= 'robokit_2012-01-11_20-08-47.843_v2.log'\n",
    "#filename = 'F:\\\\dazu\\\\robokit_2012-01-11_13-44-13.827\\\\robokit_2012-01-11_13-44-13.827.log'\n",
    "t, x, y, theta, confidence = [], [], [], [], []\n",
    "yaw_t, yaw_data, yaw_time = [], [], []\n",
    "ax, ay, az = [], [], []\n",
    "gx, gy, gz = [], [], []\n",
    "offx, offy, offz = [], [], []\n",
    "odo_t, odo_time, odo_x, odo_y, odo_theta = [], [], [], [], []\n",
    "vel_t, vx, vy, omega = [], [], [], []\n",
    "send_vel_t, send_vx, send_vy, send_vw, send_steer_angle = [], [], [], [], []\n",
    "get_vel_t, get_vx, get_vw, get_steer_angle = [], [], [], []\n",
    "read_log(filename)\n",
    "anglejoint(theta)\n",
    "anglejoint(yaw_data)\n",
    "anglejoint(odo_theta)"
   ]
  },
  {
   "cell_type": "code",
   "execution_count": 153,
   "metadata": {},
   "outputs": [
    {
     "data": {
      "text/plain": [
       "[<matplotlib.lines.Line2D at 0x2b9d3a9b2e8>]"
      ]
     },
     "execution_count": 153,
     "metadata": {},
     "output_type": "execute_result"
    }
   ],
   "source": [
    "plt.figure(1)\n",
    "plt.plot(t,confidence)"
   ]
  },
  {
   "cell_type": "code",
   "execution_count": 151,
   "metadata": {},
   "outputs": [
    {
     "data": {
      "text/plain": [
       "<matplotlib.legend.Legend at 0x2b9d3a6edd8>"
      ]
     },
     "execution_count": 151,
     "metadata": {},
     "output_type": "execute_result"
    }
   ],
   "source": [
    "\n",
    "plt.figure(2)\n",
    "plt.plot(t,theta,'g--',label='mcloc ')\n",
    "plt.plot(odo_t,odo_theta,'r--',label='Odo ')\n",
    "plt.plot(yaw_t,yaw_data,'k--',label='Gyro ')\n",
    "plt.legend()"
   ]
  },
  {
   "cell_type": "code",
   "execution_count": 150,
   "metadata": {},
   "outputs": [
    {
     "data": {
      "text/plain": [
       "[<matplotlib.lines.Line2D at 0x2b9d3570048>]"
      ]
     },
     "execution_count": 150,
     "metadata": {},
     "output_type": "execute_result"
    }
   ],
   "source": [
    "fig = plt.figure(6)\n",
    "ax1 = fig.add_subplot(211)\n",
    "ax1.plot(t,x,'b-',label='x')\n",
    "ax1.plot(t,y,'r-',label='y')\n",
    "ax1.legend(loc = 'upper right')\n",
    "ax2 = ax1.twinx()\n",
    "ax2.plot(send_vel_t,send_vx,'g.',label='auto vx')\n",
    "ax2.plot(send_vel_t,send_vw,'y.',label='auto omega')\n",
    "ax2.legend(loc = 'upper left')\n",
    "ax1 = fig.add_subplot(212)\n",
    "ax1.plot(t,y,'r-',label='y')"
   ]
  },
  {
   "cell_type": "code",
   "execution_count": 129,
   "metadata": {},
   "outputs": [
    {
     "data": {
      "text/plain": [
       "<matplotlib.legend.Legend at 0x2b9e26ea438>"
      ]
     },
     "execution_count": 129,
     "metadata": {},
     "output_type": "execute_result"
    }
   ],
   "source": [
    "t1 = rbktimetodate(\"2018-02-10 14:29:07.0\")\n",
    "t2 = rbktimetodate(\"2018-02-10 14:29:26.0\")\n",
    "ind1, ind2 = findrange(t, t1, t2)\n",
    "plt.figure(2)\n",
    "plt.subplot(3,1,1)\n",
    "plt.title('Go Strght Directly')\n",
    "plt.plot(t[ind1:ind2],theta[ind1:ind2],'g--',label='mcloc ')\n",
    "plt.legend(loc = 'upper right')\n",
    "ind1, ind2 = findrange(odo_t, t1, t2)\n",
    "plt.subplot(3,1,2)\n",
    "plt.plot(odo_t[ind1:ind2],odo_theta[ind1:ind2],'r--',label='Odo ')\n",
    "plt.legend(loc = 'upper right')\n",
    "ind1, ind2 = findrange(yaw_t, t1, t2)\n",
    "plt.subplot(3,1,3)\n",
    "plt.plot(yaw_t[ind1:ind2],yaw_data[ind1:ind2],'k--',label='Gyro ')\n",
    "plt.legend(loc = 'upper right')\n"
   ]
  },
  {
   "cell_type": "code",
   "execution_count": 127,
   "metadata": {},
   "outputs": [
    {
     "data": {
      "text/plain": [
       "<matplotlib.legend.Legend at 0x2b9e0c05e80>"
      ]
     },
     "execution_count": 127,
     "metadata": {},
     "output_type": "execute_result"
    }
   ],
   "source": [
    "t1 = rbktimetodate(\"2018-02-10 14:24:21.0\")\n",
    "t2 = rbktimetodate(\"2018-02-10 14:26:06.0\")\n",
    "ind1, ind2 = findrange(t, t1, t2)\n",
    "plt.figure(3)\n",
    "plt.subplot(3,1,1)\n",
    "plt.title('Go Strght DWA')\n",
    "plt.plot(t[ind1:ind2],theta[ind1:ind2],'g--',label='mcloc ')\n",
    "plt.legend(loc = 'upper right')\n",
    "ind1, ind2 = findrange(odo_t, t1, t2)\n",
    "plt.subplot(3,1,2)\n",
    "plt.plot(odo_t[ind1:ind2],odo_theta[ind1:ind2],'r--',label='Odo ')\n",
    "plt.legend(loc = 'upper right')\n",
    "ind1, ind2 = findrange(yaw_t, t1, t2)\n",
    "plt.subplot(3,1,3)\n",
    "plt.plot(yaw_t[ind1:ind2],yaw_data[ind1:ind2],'k--',label='Gyro ')\n",
    "plt.legend(loc = 'upper right')"
   ]
  },
  {
   "cell_type": "code",
   "execution_count": 128,
   "metadata": {},
   "outputs": [
    {
     "data": {
      "text/plain": [
       "<matplotlib.legend.Legend at 0x2b9e0cec5f8>"
      ]
     },
     "execution_count": 128,
     "metadata": {},
     "output_type": "execute_result"
    }
   ],
   "source": [
    "t1 = rbktimetodate(\"2018-02-10 14:26:26.0\")\n",
    "t2 = rbktimetodate(\"2018-02-10 14:28:04.0\")\n",
    "ind1, ind2 = findrange(t, t1, t2)\n",
    "plt.figure(4)\n",
    "plt.subplot(3,1,1)\n",
    "plt.title('Go Strght DWA')\n",
    "plt.plot(t[ind1:ind2],theta[ind1:ind2],'g--',label='mcloc ')\n",
    "plt.legend(loc = 'upper right')\n",
    "ind1, ind2 = findrange(odo_t, t1, t2)\n",
    "plt.subplot(3,1,2)\n",
    "plt.plot(odo_t[ind1:ind2],odo_theta[ind1:ind2],'r--',label='Odo ')\n",
    "plt.legend(loc = 'upper right')\n",
    "ind1, ind2 = findrange(yaw_t, t1, t2)\n",
    "plt.subplot(3,1,3)\n",
    "plt.plot(yaw_t[ind1:ind2],yaw_data[ind1:ind2],'k--',label='Gyro ')\n",
    "plt.legend(loc = 'upper right')"
   ]
  },
  {
   "cell_type": "code",
   "execution_count": 34,
   "metadata": {},
   "outputs": [
    {
     "data": {
      "text/plain": [
       "[<matplotlib.lines.Line2D at 0x215af416d30>]"
      ]
     },
     "execution_count": 34,
     "metadata": {},
     "output_type": "execute_result"
    }
   ],
   "source": [
    "fig = plt.figure(5)\n",
    "ax1 = fig.add_subplot(311)\n",
    "ax1.plot(t,theta,'g--',label='mcloc ')\n",
    "ax1.plot(odo_t,odo_theta,'r--',label='Odo ')\n",
    "ax1.plot(yaw_t,yaw_data,'k--',label='Gyro ')\n",
    "ax1.legend()\n",
    "ax2 = fig.add_subplot(312)\n",
    "ax2.plot(yaw_t,gx,'b-',label='gx')\n",
    "ax2.plot(yaw_t,gy,'r-',label='gy')\n",
    "ax2.plot(yaw_t,gz,'g-',label='gz')\n",
    "ax2.legend(loc = 'upper right')\n",
    "ax3 = fig.add_subplot(313)\n",
    "ax3.plot(yaw_t,offx,'b-',label='offx')\n",
    "ax3.plot(yaw_t,offy,'r-',label='offy')\n",
    "ax3.plot(yaw_t,offz,'g-',label='offz')"
   ]
  },
  {
   "cell_type": "code",
   "execution_count": 99,
   "metadata": {},
   "outputs": [
    {
     "data": {
      "text/plain": [
       "<matplotlib.legend.Legend at 0x2b9d056f860>"
      ]
     },
     "execution_count": 99,
     "metadata": {},
     "output_type": "execute_result"
    }
   ],
   "source": []
  },
  {
   "cell_type": "code",
   "execution_count": null,
   "metadata": {
    "collapsed": true
   },
   "outputs": [],
   "source": [
    "fig = plt.figure(4)\n",
    "ax1 = fig.add_subplot(311)\n",
    "ax1.plot(t,theta,'g--',label='mcloc ')\n",
    "ax1.plot(odo_t,odo_theta,'r--',label='Odo ')\n",
    "ax1.plot(yaw_t,yaw_data,'k--',label='Gyro ')\n",
    "ax1.legend()\n",
    "ax2 = fig.add_subplot(312)\n",
    "ax2.plot(yaw_t,gx,'b-',label='gx')\n",
    "ax2.plot(yaw_t,gy,'r-',label='gy')\n",
    "ax2.plot(yaw_t,gz,'g-',label='gz')\n",
    "ax2.legend(loc = 'upper right')\n",
    "ax3 = fig.add_subplot(313)\n",
    "ax3.plot(yaw_t,offx,'b-',label='offx')\n",
    "ax3.plot(yaw_t,offy,'r-',label='offy')\n",
    "ax3.plot(yaw_t,offz,'g-',label='offz')"
   ]
  },
  {
   "cell_type": "code",
   "execution_count": 58,
   "metadata": {},
   "outputs": [
    {
     "name": "stdout",
     "output_type": "stream",
     "text": [
      "0\n"
     ]
    }
   ],
   "source": [
    "print(len(vel_t))"
   ]
  },
  {
   "cell_type": "code",
   "execution_count": 27,
   "metadata": {},
   "outputs": [
    {
     "data": {
      "text/plain": [
       "4.984732817638162"
      ]
     },
     "execution_count": 27,
     "metadata": {},
     "output_type": "execute_result"
    }
   ],
   "source": [
    "0.087/math.pi*180"
   ]
  },
  {
   "cell_type": "code",
   "execution_count": 33,
   "metadata": {},
   "outputs": [
    {
     "data": {
      "text/plain": [
       "0.93965078401455"
      ]
     },
     "execution_count": 33,
     "metadata": {},
     "output_type": "execute_result"
    }
   ],
   "source": [
    "0.001/math.pi *180 * 16.4"
   ]
  },
  {
   "cell_type": "code",
   "execution_count": 70,
   "metadata": {},
   "outputs": [
    {
     "data": {
      "text/plain": [
       "1.1"
      ]
     },
     "execution_count": 70,
     "metadata": {},
     "output_type": "execute_result"
    }
   ],
   "source": [
    "math.fabs(1.1)"
   ]
  },
  {
   "cell_type": "code",
   "execution_count": 102,
   "metadata": {},
   "outputs": [
    {
     "name": "stdout",
     "output_type": "stream",
     "text": [
      "13407 13619\n"
     ]
    }
   ],
   "source": [
    "t1 = rbktimetodate(\"2018-02-10 14:29:07.0\")\n",
    "t2 = rbktimetodate(\"2018-02-10 14:29:26.0\")\n",
    "ind1, ind2 = findrange(t, t1, t2)\n",
    "print(ind1, ind2)"
   ]
  },
  {
   "cell_type": "code",
   "execution_count": null,
   "metadata": {
    "collapsed": true
   },
   "outputs": [],
   "source": []
  }
 ],
 "metadata": {
  "kernelspec": {
   "display_name": "Python 3",
   "language": "python",
   "name": "python3"
  },
  "language_info": {
   "codemirror_mode": {
    "name": "ipython",
    "version": 3
   },
   "file_extension": ".py",
   "mimetype": "text/x-python",
   "name": "python",
   "nbconvert_exporter": "python",
   "pygments_lexer": "ipython3",
   "version": "3.6.3"
  }
 },
 "nbformat": 4,
 "nbformat_minor": 1
}
