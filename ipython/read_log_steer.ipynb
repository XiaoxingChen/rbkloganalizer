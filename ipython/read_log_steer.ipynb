{
 "cells": [
  {
   "cell_type": "markdown",
   "metadata": {},
   "source": [
    "# Log文件解析脚本\n",
    " \n",
    "目前，已经可以从Log中解析以下表格中的内容：  \n",
    "\n",
    "|类型|正则名称|数据名称|  \n",
    "|:-|:-|:-|\n",
    "|MCLoc  |mcloc_re|t, x, y, theta, confidence|  \n",
    "|Yaw|yaw_re|yaw_t, yaw_data, yaw_time, ax, ay, az, gx, gy, gz, offx, offy, offz|  \n",
    "|Odometer|odometer_re|odo_t, odo_time, odo_x, odo_y, odo_theta|  \n",
    "|手控下发速度|vel_re|vx, vy, omega|  \n",
    "|自动下发速度|send_vel_re|send_vel_t, send_vx, send_vy, send_vw, send_steer_angle|  \n",
    "|自动获取速度|get_vel_re|get_vel_t, get_vel_x, get_vy, get_vel_vw, get_vel_steer_angle|  "
   ]
  },
  {
   "cell_type": "markdown",
   "metadata": {},
   "source": [
    "##  如何添加新的解析内容\n",
    "1. [正则模块中添加新的正则表达式和对应的变量](#No1)  \n",
    "2. [解析函数中处理解析出来的数据，赋予对应变量](#No2)  \n",
    "3. [运行解析函数，并且画图](#No3)"
   ]
  },
  {
   "cell_type": "code",
   "execution_count": 1,
   "metadata": {},
   "outputs": [],
   "source": [
    "%matplotlib qt5\n",
    "import matplotlib.pyplot as plt\n",
    "import os\n",
    "import re\n",
    "import numpy as np\n",
    "import math\n",
    "from datetime import datetime"
   ]
  },
  {
   "cell_type": "markdown",
   "metadata": {},
   "source": [
    "## <span id=\"No1\">正则 </span>"
   ]
  },
  {
   "cell_type": "markdown",
   "metadata": {},
   "source": [
    "* 定位"
   ]
  },
  {
   "cell_type": "code",
   "execution_count": 2,
   "metadata": {},
   "outputs": [],
   "source": [
    "mcloc_re = re.compile(\"\\[(.*?)\\]\\[MCLocV2\\].*x:(.*?):y:(.*?):theta:(.*?):confidence:(.*?) \")\n",
    "t = []\n",
    "x = []\n",
    "y = []\n",
    "theta =[]\n",
    "confidence = []"
   ]
  },
  {
   "cell_type": "markdown",
   "metadata": {},
   "source": [
    " * 陀螺仪"
   ]
  },
  {
   "cell_type": "code",
   "execution_count": 3,
   "metadata": {},
   "outputs": [],
   "source": [
    "yaw_re = re.compile(\"\\[(.*?)\\].*yaw: (.*?),? ?timestamp: (\\d+)\")\n",
    "yaw_t = []\n",
    "yaw_data = []\n",
    "yaw_time = []\n",
    "acc_re = re.compile(\"acc = \\[(.*?), (.*?), (.*?)\\]w = \\[(.*?), (.*?), (.*?)\\];off = \\[(.*?), (.*?), (.*?)\\]\")\n",
    "ax = []\n",
    "ay = []\n",
    "az = []\n",
    "gx = []\n",
    "gy = []\n",
    "gz = []\n",
    "offx = []\n",
    "offy = []\n",
    "offz = []"
   ]
  },
  {
   "cell_type": "markdown",
   "metadata": {},
   "source": [
    "* 里程"
   ]
  },
  {
   "cell_type": "code",
   "execution_count": 4,
   "metadata": {},
   "outputs": [],
   "source": [
    "odometer_re = re.compile(\"\\[(.*?)\\].*timestamp: (\\d+), x: (.*?), y: (.*?), angle: (.*?), stopped:*?\")\n",
    "odo_t = []\n",
    "odo_time = []\n",
    "odo_x = []\n",
    "odo_y = []\n",
    "odo_theta = []\n",
    "#odo_vx = []\n",
    "#odo_vy = []\n",
    "#odo_vw = []"
   ]
  },
  {
   "cell_type": "markdown",
   "metadata": {},
   "source": [
    "* 下发速度"
   ]
  },
  {
   "cell_type": "code",
   "execution_count": 5,
   "metadata": {},
   "outputs": [],
   "source": [
    "vel_re = re.compile('\\[(.*?)\\].*{ \"vx\" : (.*?), \"vy\" : (.*?), \"w\" : (.*?) }')\n",
    "vel_t = []\n",
    "vx =[]\n",
    "vy = []\n",
    "omega = []"
   ]
  },
  {
   "cell_type": "markdown",
   "metadata": {},
   "source": [
    "* 自动下发速度"
   ]
  },
  {
   "cell_type": "code",
   "execution_count": 6,
   "metadata": {},
   "outputs": [],
   "source": [
    "send_vel_re = re.compile('\\[(.*?)\\].* SEND vx = (.*?); vw = (.*?); steer_angle = (.*?); max_vx = (.*?); max_vw = (.*?)\\n')\n",
    "send_vel_t = []\n",
    "send_vx = []\n",
    "send_vw = []\n",
    "send_steer= []\n",
    "send_max_vx = []\n",
    "send_max_vw = []"
   ]
  },
  {
   "cell_type": "markdown",
   "metadata": {},
   "source": [
    "* 自动获取速度"
   ]
  },
  {
   "cell_type": "code",
   "execution_count": 8,
   "metadata": {},
   "outputs": [],
   "source": [
    "get_vel_re = re.compile('\\[(.*?)\\].* GET vx = (.*?); vw = (.*?); steer_angle = (.*?); max_vx = (.*?); max_vw = (.*?)\\n')\n",
    "get_vel_t = []\n",
    "get_vx = []\n",
    "get_vw = []\n",
    "get_steer = []\n",
    "get_max_vx = []\n",
    "get_max_vw = []"
   ]
  },
  {
   "cell_type": "markdown",
   "metadata": {},
   "source": [
    "* LQR的参数Q"
   ]
  },
  {
   "cell_type": "code",
   "execution_count": 7,
   "metadata": {},
   "outputs": [],
   "source": [
    "get_Q_re = re.compile('\\[(.*?)\\].* m_Q.*? = (.*?);.*\\n')\n",
    "get_Q_t = []\n",
    "get_Q_q = []"
   ]
  },
  {
   "cell_type": "markdown",
   "metadata": {},
   "source": [
    "## <span id=\"No2\">解析函数 </span>"
   ]
  },
  {
   "cell_type": "code",
   "execution_count": 9,
   "metadata": {},
   "outputs": [],
   "source": [
    "def rbktimetodate(rbktime):\n",
    "    return datetime.strptime(rbktime, '%Y-%m-%d %H:%M:%S.%f')\n",
    "def findrange(ts, t1, t2):\n",
    "    small_ind = -1\n",
    "    large_ind = len(ts)-1\n",
    "    for i, data in enumerate(ts):\n",
    "        large_ind = i\n",
    "        if(t1 < data and small_ind < 0):\n",
    "            small_ind = i\n",
    "        if(t2 < data):\n",
    "            break;\n",
    "    return small_ind, large_ind\n",
    "def anglejoint(anglelist, period = 360.0):\n",
    "    base_offset = anglelist[0]\n",
    "    anglelist[0] = 0\n",
    "    noise = 0.01 * 360\n",
    "    print(base_offset)\n",
    "    for i in range(1, len(anglelist)):\n",
    "        temp = anglelist[i] - base_offset\n",
    "        if(temp - anglelist[i - 1] > (period-noise)):\n",
    "            anglelist[i] =temp - period\n",
    "        elif (temp - anglelist[i - 1] < (-period+noise)):\n",
    "            anglelist[i] =temp + period\n",
    "        else:\n",
    "            anglelist[i] = temp\n",
    "        if(anglelist[i] > period/2.0):\n",
    "            anglelist[i] -= period\n",
    "        elif(anglelist[i] < -period/2.0):\n",
    "            anglelist[i] += period\n",
    "def read_log(filename): \n",
    "    line_num = 0\n",
    "    for line in open(filename): \n",
    "        line_num += 1\n",
    "        #print(line_num)\n",
    "        m = mcloc_re.match(line)\n",
    "        yaw = yaw_re.match(line)\n",
    "        odo = odometer_re.match(line)\n",
    "        acc = acc_re.match(line)\n",
    "        vel = vel_re.match(line)\n",
    "        send_vel = send_vel_re.match(line)\n",
    "        get_vel = get_vel_re.match(line)\n",
    "        get_Q = get_Q_re.match(line)\n",
    "        if m:\n",
    "            t.append(rbktimetodate(m.group(1)))\n",
    "            x.append(float(m.group(2)))\n",
    "            y.append(float(m.group(3)))\n",
    "            theta.append(float(m.group(4)))\n",
    "            confidence.append(float(m.group(5)))\n",
    "        if yaw:\n",
    "            yaw_t.append(rbktimetodate(yaw.group(1)))\n",
    "            yaw_data.append((float(yaw.group(2))/math.pi *  180.0))\n",
    "            yaw_time.append(float(yaw.group(3)))\n",
    "        if acc:\n",
    "            ax.append(float(acc.group(1)))\n",
    "            ay.append(float(acc.group(2)))\n",
    "            az.append(float(acc.group(3)))\n",
    "            gx.append(float(acc.group(4))/math.pi*180.0*16.4)\n",
    "            gy.append(float(acc.group(5))/math.pi*180.0*16.4)\n",
    "            gz.append(float(acc.group(6))/math.pi*180.0*16.4)\n",
    "            offx.append(float(acc.group(7)))\n",
    "            offy.append(float(acc.group(8)))\n",
    "            offz.append(float(acc.group(9)))\n",
    "        if odo:\n",
    "            odo_t.append(rbktimetodate(odo.group(1)))\n",
    "            odo_time.append(float(odo.group(2)))\n",
    "            odo_x.append(float(odo.group(3)))\n",
    "            odo_y.append(float(odo.group(4)))\n",
    "            odo_theta.append((float(odo.group(5))/math.pi * 180.0))\n",
    "            #odo_vx.append((float(odo.group(6))))\n",
    "            #odo_vy.append((float(odo.group(7))))\n",
    "            #odo_vw.append(float(odo.group(8)))\n",
    "        if vel:\n",
    "            vel_t.append(rbktimetodate(vel.group(1)))\n",
    "            vx.append(float(vel.group(2)))\n",
    "            vy.append(float(vel.group(3)))\n",
    "            omega.append(float(vel.group(4)))\n",
    "        if send_vel:\n",
    "            send_vel_t.append(rbktimetodate(send_vel.group(1)))\n",
    "            send_vx.append(float(send_vel.group(2)))\n",
    "            send_vw.append(float(send_vel.group(3)))\n",
    "            send_steer.append(float(send_vel.group(4)))\n",
    "            send_max_vx.append(float(send_vel.group(5)))\n",
    "            send_max_vw.append(float(send_vel.group(6)))\n",
    "        if get_vel:\n",
    "            get_vel_t.append(rbktimetodate(get_vel.group(1)))\n",
    "            get_vx.append(float(get_vel.group(2)))\n",
    "            get_vw.append(float(get_vel.group(3)))\n",
    "            get_steer.append(float(get_vel.group(4)))\n",
    "            get_max_vx.append(float(get_vel.group(5)))\n",
    "            get_max_vw.append(float(get_vel.group(6)))\n",
    "        if get_Q:\n",
    "            get_Q_t.append(rbktimetodate(get_Q.group(1)))\n",
    "            get_Q_q.append(float(get_Q.group(2)))"
   ]
  },
  {
   "cell_type": "markdown",
   "metadata": {},
   "source": [
    "## <span id=\"No3\">解析文件，并画图 </span>"
   ]
  },
  {
   "cell_type": "code",
   "execution_count": 10,
   "metadata": {},
   "outputs": [],
   "source": [
    "filename= 'robokit_2018-07-12_11-42-21.695.log'\n",
    "#filename = 'F:\\\\dazu\\\\robokit_2012-01-11_13-44-13.827\\\\robokit_2012-01-11_13-44-13.827.log'\n",
    "t, x, y, theta, confidence = [], [], [], [], []\n",
    "yaw_t, yaw_data, yaw_time = [], [], []\n",
    "ax, ay, az = [], [], []\n",
    "gx, gy, gz = [], [], []\n",
    "offx, offy, offz = [], [], []\n",
    "odo_t, odo_time, odo_x, odo_y, odo_theta, odo_vx, odo_vy, odo_vw = [], [], [], [], [], [], [], []\n",
    "vel_t, vx, vy, omega = [], [], [], []\n",
    "send_vel_t, send_vx, send_vw, send_steer, send_max_vx, send_max_vw = [], [], [], [], [], []\n",
    "get_vel_t, get_vx, get_vw, get_steer, get_max_vx, get_max_vw = [], [], [], [], [], []\n",
    "get_Q_t, get_Q_q = [],[]\n",
    "read_log(filename)\n",
    "#anglejoint(theta)\n",
    "#anglejoint(yaw_data)\n",
    "#anglejoint(odo_theta)"
   ]
  },
  {
   "cell_type": "markdown",
   "metadata": {},
   "source": [
    "* 下发速度"
   ]
  },
  {
   "cell_type": "code",
   "execution_count": 16,
   "metadata": {},
   "outputs": [
    {
     "data": {
      "text/plain": [
       "<matplotlib.legend.Legend at 0x2e91de6f390>"
      ]
     },
     "execution_count": 16,
     "metadata": {},
     "output_type": "execute_result"
    }
   ],
   "source": [
    "plt.figure(11)\n",
    "#plt.plot(send_vel_t,send_max_vx, 'o',label='max vx')\n",
    "plt.plot(send_vel_t,send_vx, '.',label='send vel')\n",
    "plt.plot(get_vel_t,get_vx, '.',label='get')\n",
    "plt.ylabel('vx (m/s)')\n",
    "plt.xlabel('time (s)')\n",
    "plt.legend(loc = 'lower right')\n",
    "plt.grid()\n",
    "plt.figure(12)\n",
    "#plt.plot(send_vel_t,send_max_vy, 'o',label='max vy')\n",
    "plt.plot(send_vel_t,send_vw, 'o',label='send vy')\n",
    "plt.plot(get_vel_t,get_vw, '.',label='get')\n",
    "plt.ylabel('vw (rad/s)')\n",
    "plt.xlabel('time (s)')\n",
    "plt.legend(loc = 'lower right')\n",
    "plt.grid()\n",
    "plt.figure(13)\n",
    "#plt.plot(send_vel_t,send_max_vy, 'o',label='max vy')\n",
    "plt.plot(send_vel_t,send_steer, 'o',label='send vy')\n",
    "plt.plot(get_vel_t,get_steer, '.',label='get')\n",
    "plt.ylabel('steer_angle (rad)')\n",
    "plt.xlabel('time (s)')\n",
    "plt.legend(loc = 'lower right')\n",
    "plt.grid()\n",
    "plt.figure(14)\n",
    "plt.plot(get_Q_t,get_Q_q,'.',label= 'get_Q')\n",
    "plt.legend()"
   ]
  },
  {
   "cell_type": "markdown",
   "metadata": {},
   "source": [
    "* 轨迹"
   ]
  },
  {
   "cell_type": "code",
   "execution_count": 13,
   "metadata": {},
   "outputs": [
    {
     "data": {
      "text/plain": [
       "Text(0,0.5,'confidence')"
      ]
     },
     "execution_count": 13,
     "metadata": {},
     "output_type": "execute_result"
    }
   ],
   "source": [
    "plt.figure(3)\n",
    "plt.plot(t,x,label='x')\n",
    "#plt.plot(odo_t,[tmp - odo_x[0] +x[0] for tmp in odo_x],label='odo_x')\n",
    "plt.xlabel('t')\n",
    "plt.ylabel('x (m)')\n",
    "plt.grid()\n",
    "plt.legend()\n",
    "plt.figure(4)\n",
    "plt.plot(t,y,label='y')\n",
    "#plt.plot(odo_t,[tmp - odo_y[0] +y[0] for tmp in odo_y],label='odo_y')\n",
    "plt.legend()\n",
    "plt.figure(5)\n",
    "plt.plot(x,y,'k.')\n",
    "plt.figure(6)\n",
    "plt.plot(t,theta)\n",
    "plt.xlabel('t')\n",
    "plt.ylabel('theta')\n",
    "plt.figure(7)\n",
    "plt.plot(t,confidence)\n",
    "plt.xlabel('t')\n",
    "plt.ylabel('confidence')"
   ]
  },
  {
   "cell_type": "markdown",
   "metadata": {},
   "source": [
    "* 角度"
   ]
  },
  {
   "cell_type": "code",
   "execution_count": 20,
   "metadata": {},
   "outputs": [
    {
     "data": {
      "text/plain": [
       "<matplotlib.legend.Legend at 0x2e925732fd0>"
      ]
     },
     "execution_count": 20,
     "metadata": {},
     "output_type": "execute_result"
    }
   ],
   "source": [
    "plt.figure(122)\n",
    "plt.plot(t,theta,'g--',label='mcloc ')\n",
    "plt.plot(odo_t,[tmp + theta[0] - odo_theta[0] for tmp in odo_theta],'r--',label='Odo ')\n",
    "plt.plot(yaw_t,[tmp + theta[0] - yaw_datafor tmp in yaw_data],'k--',label='Gyro ')\n",
    "plt.legend()"
   ]
  },
  {
   "cell_type": "markdown",
   "metadata": {},
   "source": [
    "* 地图线路和实际线路比较"
   ]
  },
  {
   "cell_type": "code",
   "execution_count": 48,
   "metadata": {},
   "outputs": [
    {
     "data": {
      "text/plain": [
       "<matplotlib.legend.Legend at 0x29c4465db70>"
      ]
     },
     "execution_count": 48,
     "metadata": {},
     "output_type": "execute_result"
    }
   ],
   "source": [
    "import bezier\n",
    "import numpy as np\n",
    "from scipy import interpolate\n",
    "nodes = np.asfortranarray([[-1.586, -0.977, 1.173, 4.936],[1.77, 0.441 , 0.175, 0.181]])\n",
    "curve = bezier.Curve(nodes, degree=3)\n",
    "ax = curve.plot(num_pts=256)\n",
    "ax.plot(x,y,'k.')\n",
    "ax.legend(['Path in Map','Real Trajectory'])\n",
    "plt.gcf()\n",
    "plt.xlabel('x(m)')\n",
    "plt.ylabel('y(m)')"
   ]
  },
  {
   "cell_type": "markdown",
   "metadata": {},
   "source": [
    "* 一段时间内的数据"
   ]
  },
  {
   "cell_type": "code",
   "execution_count": 129,
   "metadata": {},
   "outputs": [
    {
     "data": {
      "text/plain": [
       "<matplotlib.legend.Legend at 0x2b9e26ea438>"
      ]
     },
     "execution_count": 129,
     "metadata": {},
     "output_type": "execute_result"
    }
   ],
   "source": [
    "t1 = rbktimetodate(\"2018-02-10 14:29:07.0\")\n",
    "t2 = rbktimetodate(\"2018-02-10 14:29:26.0\")\n",
    "ind1, ind2 = findrange(t, t1, t2)\n",
    "plt.figure(2)\n",
    "plt.subplot(3,1,1)\n",
    "plt.title('Go Strght Directly')\n",
    "plt.plot(t[ind1:ind2],theta[ind1:ind2],'g--',label='mcloc ')\n",
    "plt.legend(loc = 'upper right')\n",
    "ind1, ind2 = findrange(odo_t, t1, t2)\n",
    "plt.subplot(3,1,2)\n",
    "plt.plot(odo_t[ind1:ind2],odo_theta[ind1:ind2],'r--',label='Odo ')\n",
    "plt.legend(loc = 'upper right')\n",
    "ind1, ind2 = findrange(yaw_t, t1, t2)\n",
    "plt.subplot(3,1,3)\n",
    "plt.plot(yaw_t[ind1:ind2],yaw_data[ind1:ind2],'k--',label='Gyro ')\n",
    "plt.legend(loc = 'upper right')"
   ]
  }
 ],
 "metadata": {
  "kernelspec": {
   "display_name": "Python 3",
   "language": "python",
   "name": "python3"
  },
  "language_info": {
   "codemirror_mode": {
    "name": "ipython",
    "version": 3
   },
   "file_extension": ".py",
   "mimetype": "text/x-python",
   "name": "python",
   "nbconvert_exporter": "python",
   "pygments_lexer": "ipython3",
   "version": "3.6.4"
  }
 },
 "nbformat": 4,
 "nbformat_minor": 2
}
